{
  "nbformat": 4,
  "nbformat_minor": 0,
  "metadata": {
    "colab": {
      "name": "Untitled4.ipynb",
      "provenance": [],
      "collapsed_sections": [],
      "authorship_tag": "ABX9TyOvngSxemu97QT2L9X0RouY",
      "include_colab_link": true
    },
    "kernelspec": {
      "name": "python3",
      "display_name": "Python 3"
    }
  },
  "cells": [
    {
      "cell_type": "markdown",
      "metadata": {
        "id": "view-in-github",
        "colab_type": "text"
      },
      "source": [
        "<a href=\"https://colab.research.google.com/github/MuhammadAzka0910/pemprogaman_python/blob/main/PythonTugas13MochAzkaZuhdiY.ipynb\" target=\"_parent\"><img src=\"https://colab.research.google.com/assets/colab-badge.svg\" alt=\"Open In Colab\"/></a>"
      ]
    },
    {
      "cell_type": "code",
      "metadata": {
        "id": "OPqcdPIkRq9b"
      },
      "source": [
        "import numpy as np\r\n",
        "import matplotlib.pyplot as plt"
      ],
      "execution_count": 1,
      "outputs": []
    },
    {
      "cell_type": "code",
      "metadata": {
        "id": "2-BU1az7SVaE"
      },
      "source": [
        "def cos(frek,tipe,ht,hr,d):\r\n",
        "  #frek = frekuensi (MHz)\r\n",
        "  #tipe = urban, suburban, open\r\n",
        "  #ht = tinggi tower (meter)\r\n",
        "  #hr = tinggi user (meter)\r\n",
        "  #d = jarak (meter)\r\n",
        "    if frek in range(150,1501):\r\n",
        "        Ca=69.55\r\n",
        "        Cb=26.16\r\n",
        "    elif frek in range(1501,2001):\r\n",
        "        Ca=46.3\r\n",
        "        Cb=33.9\r\n",
        "    \r\n",
        "    if tipe=='urban' :\r\n",
        "        Cm=0\r\n",
        "    elif tipe=='suburban' :\r\n",
        "        Cm= -2*((np.log10((frek/28)**2))-5.4)\r\n",
        "    elif tipe=='open' :\r\n",
        "        Cm= -4.78*(np.log10(frek))+18.33*(np.log10(frek))-40.94\r\n",
        "    else :\r\n",
        "        Cm='tipe salah'\r\n",
        "    \r\n",
        "    ahr = (1.1*np.log10(frek)-0.7)*hr-(1.56*np.log10(frek)-1.8)\r\n",
        "    Lp = Ca+(Cb*np.log10(frek))-(13.83*np.log(ht))-ahr+((44.9-6.55*np.log10(ht))*np.log10(d))-Cm\r\n",
        "    \r\n",
        "    return Lp"
      ],
      "execution_count": 2,
      "outputs": []
    },
    {
      "cell_type": "code",
      "metadata": {
        "id": "YN8Rm1xzSaFV"
      },
      "source": [
        "f=1800 #MHz\r\n",
        "loc='urban'\r\n",
        "tower=80 #m\r\n",
        "user=1.5 #m\r\n",
        "dmin=200 #m\r\n",
        "dmax=700 #m\r\n",
        "N=200 #titik\r\n",
        "d=np.random.randint(dmin,dmax,N)"
      ],
      "execution_count": 3,
      "outputs": []
    },
    {
      "cell_type": "code",
      "metadata": {
        "colab": {
          "base_uri": "https://localhost:8080/"
        },
        "id": "_jPXUXJxSnfM",
        "outputId": "8a83de44-1c90-4e96-f45b-f0ea8fbffad3"
      },
      "source": [
        "print(d)"
      ],
      "execution_count": 4,
      "outputs": [
        {
          "output_type": "stream",
          "text": [
            "[355 698 596 204 577 236 496 236 391 410 671 619 287 575 445 307 496 429\n",
            " 614 373 621 419 312 207 406 523 367 644 326 252 415 288 595 238 267 499\n",
            " 406 504 514 620 434 605 465 598 452 244 294 342 563 637 394 308 494 404\n",
            " 207 680 576 554 571 551 320 585 301 453 473 386 286 226 698 595 354 374\n",
            " 648 331 268 237 512 669 610 378 533 613 398 410 251 305 682 697 689 380\n",
            " 561 608 412 234 335 503 677 392 675 520 533 693 295 318 624 482 646 538\n",
            " 529 312 384 320 304 682 651 448 600 309 687 530 418 609 512 422 577 608\n",
            " 431 605 587 384 223 358 608 668 584 395 674 230 234 287 331 619 608 476\n",
            " 518 487 413 588 434 456 566 275 397 539 559 231 310 583 493 622 684 555\n",
            " 484 312 427 398 306 288 311 448 495 540 690 416 366 314 434 368 380 376\n",
            " 675 559 285 549 325 509 277 316 272 337 625 216 217 657 380 322 401 575\n",
            " 483 508]\n"
          ],
          "name": "stdout"
        }
      ]
    },
    {
      "cell_type": "code",
      "metadata": {
        "id": "pDQQFL4FSrXx"
      },
      "source": [
        "LpUrban=cos(f,loc,tower,user,d)"
      ],
      "execution_count": 5,
      "outputs": []
    },
    {
      "cell_type": "code",
      "metadata": {
        "colab": {
          "base_uri": "https://localhost:8080/"
        },
        "id": "rJn2WwH8SyXI",
        "outputId": "8032d076-b8b6-44a1-d5ef-c595be2bda18"
      },
      "source": [
        "print(LpUrban)"
      ],
      "execution_count": 6,
      "outputs": [
        {
          "output_type": "stream",
          "text": [
            "[177.72338111 187.24710481 185.02178304 169.91963656 184.56541147\n",
            " 171.97216775 182.43463788 171.97216775 179.08396756 179.75235389\n",
            " 186.69140322 185.55515287 174.72814591 184.51650088 180.90625794\n",
            " 175.67707279 182.43463788 180.39045706 185.44090863 178.42009529\n",
            " 185.60059238 180.05821908 175.90464216 170.12527872 179.61425242\n",
            " 183.18128647 178.19166482 186.11287566 176.5229462  172.89618665\n",
            " 179.92309826 174.77714157 184.99812856 172.09103965 173.71064686\n",
            " 182.51958027 179.61425242 182.66002249 182.93677476 185.57789095\n",
            " 180.55368296 185.23290462 181.52553294 185.06897316 181.12611449\n",
            " 172.44175248 175.06758974 177.19786511 184.21941631 185.95892618\n",
            " 179.19163359 175.72288173 182.37772371 179.54469061 170.12527872\n",
            " 186.87908348 184.5409774  183.99241742 184.41816723 183.91593088\n",
            " 176.26127482 184.75937306 175.39904592 181.15724431 181.76581574\n",
            " 178.902675   174.67897923 171.36227866 187.24710481 184.99812856\n",
            " 177.68364557 178.45780947 186.20009722 176.73735273 173.76330575\n",
            " 172.03172909 182.88185758 186.64935472 185.34884139 178.60766448\n",
            " 183.44807925 185.41794817 179.33392003 179.75235389 172.84017768\n",
            " 175.58500555 186.92045278 187.22690949 187.06429599 178.68199836\n",
            " 184.1692873  185.30258113 179.8209002  171.85228415 176.90655882\n",
            " 182.63204584 186.81680082 179.11994775 186.77512553 183.10025324\n",
            " 183.44807925 187.14583739 175.11542082 176.17295956 185.668478\n",
            " 182.03132336 186.15655395 183.57960436 183.34196773 175.90464216\n",
            " 178.82949958 176.26127482 175.53874529 186.92045278 186.26516079\n",
            " 181.00090267 185.11600572 175.76854219 187.0233476  183.36857064\n",
            " 180.02456019 185.32573025 182.88185758 180.15871585 184.56541147\n",
            " 185.30258113 180.45597456 185.23290462 184.807449   178.82949958\n",
            " 171.17404105 177.84191957 185.30258113 186.62828331 184.73527342\n",
            " 179.22734017 186.75424156 171.60941197 171.85228415 174.72814591\n",
            " 176.73735273 185.55515287 185.30258113 181.85487549 183.04597095\n",
            " 182.17669346 179.85504867 184.83142558 180.55368296 181.25022312\n",
            " 184.29427692 174.12650695 179.29848294 183.60576266 184.11897926\n",
            " 171.67052372 175.81405511 184.71113247 182.34918016 185.62325729\n",
            " 186.96170094 184.01782092 182.08965155 175.90464216 180.3246334\n",
            " 179.33392003 175.63111439 174.77714157 175.85942145 181.00090267\n",
            " 182.40620954 183.63187246 187.08472564 179.95700017 178.15323031\n",
            " 175.99465037 180.55368296 178.22999474 178.68199836 178.53293625\n",
            " 186.77512553 184.11897926 174.62964035 183.86470814 176.47967047\n",
            " 182.79907828 174.22858158 176.0840871  173.97199457 176.99040572\n",
            " 185.69103403 170.72478356 170.78984712 186.39439323 178.68199836\n",
            " 176.34903982 179.43969953 184.51650088 182.06051765 182.77137672]\n"
          ],
          "name": "stdout"
        }
      ]
    },
    {
      "cell_type": "code",
      "metadata": {
        "id": "cLHH9icOS8aH"
      },
      "source": [
        "d_sort=d[np.argsort(d)]\r\n",
        "Urban_sort=LpUrban[np.argsort(d)]"
      ],
      "execution_count": 7,
      "outputs": []
    },
    {
      "cell_type": "code",
      "metadata": {
        "id": "d4pqRLTKTEV8"
      },
      "source": [
        "f=1800 #MHz\r\n",
        "loc='suburban'\r\n",
        "tower=80 #m\r\n",
        "user=1.5 #m\r\n",
        "dmin=200 #m\r\n",
        "dmax=700 #m\r\n",
        "N=200 #titik\r\n",
        "a=np.random.randint(dmin,dmax,N)"
      ],
      "execution_count": 8,
      "outputs": []
    },
    {
      "cell_type": "code",
      "metadata": {
        "colab": {
          "base_uri": "https://localhost:8080/"
        },
        "id": "pOJVtUXsTItu",
        "outputId": "e21b3f9d-ff33-406c-964e-475576254039"
      },
      "source": [
        "print(a)"
      ],
      "execution_count": 9,
      "outputs": [
        {
          "output_type": "stream",
          "text": [
            "[271 291 394 619 492 665 447 505 411 232 629 261 676 631 450 250 244 469\n",
            " 362 478 211 655 420 381 305 671 505 562 441 427 678 320 351 452 557 559\n",
            " 313 275 293 214 670 239 292 281 535 394 495 320 472 254 523 394 353 279\n",
            " 298 209 556 435 426 224 285 305 221 411 603 503 588 270 602 474 389 307\n",
            " 513 450 231 206 427 639 400 398 268 347 557 359 306 646 499 510 224 206\n",
            " 628 359 502 308 247 512 388 647 472 654 317 259 438 224 477 221 466 593\n",
            " 664 432 355 553 649 210 434 445 293 600 301 360 316 633 409 674 596 538\n",
            " 229 453 622 308 513 573 267 500 259 636 366 392 289 686 672 341 339 684\n",
            " 375 489 438 404 438 221 640 213 653 665 497 573 398 505 607 318 655 413\n",
            " 467 431 291 689 669 372 457 267 561 254 532 697 462 409 263 228 678 628\n",
            " 690 540 321 685 293 345 319 388 448 332 623 251 552 272 257 341 428 253\n",
            " 419 525]\n"
          ],
          "name": "stdout"
        }
      ]
    },
    {
      "cell_type": "code",
      "metadata": {
        "id": "0RqU55hyTOno"
      },
      "source": [
        "Lpsuburban=cos(f,loc,tower,user,a)"
      ],
      "execution_count": 10,
      "outputs": []
    },
    {
      "cell_type": "code",
      "metadata": {
        "colab": {
          "base_uri": "https://localhost:8080/"
        },
        "id": "x9C42EIdTULB",
        "outputId": "1005d64f-b3b0-45e1-9233-18df2f16a819"
      },
      "source": [
        "print(Lpsuburban)"
      ],
      "execution_count": 11,
      "outputs": [
        {
          "output_type": "stream",
          "text": [
            "[170.3525694  171.35557214 175.62409149 181.98761076 178.75303655\n",
            " 182.99733718 177.40188292 179.12040158 176.21912664 168.16382939\n",
            " 182.21335658 169.82294921 183.22843649 182.25807483 177.4961056\n",
            " 169.21640301 168.87421038 178.07864457 174.43089283 178.34639527\n",
            " 166.82733791 182.78390525 176.52425562 175.15147661 172.01746345\n",
            " 183.12386112 179.12040158 180.626832   177.21152547 176.7570913\n",
            " 183.27005022 172.69373271 173.99621987 177.55857239 180.50094879\n",
            " 180.55143715 172.38217605 170.55896485 171.4520536  167.02620574\n",
            " 183.10285256 168.58255943 171.40389547 170.86299616 179.93329465\n",
            " 175.62409149 178.83866743 172.69373271 178.16846148 169.43999878\n",
            " 179.61374436 175.62409149 174.07625553 170.76237975 171.6904051\n",
            " 166.69318225 180.47563659 177.01856029 176.72406376 167.66952473\n",
            " 171.06209824 172.01746345 167.47959505 176.21912664 181.61871931\n",
            " 179.06450373 181.26388348 170.30049452 181.59533965 178.22802283\n",
            " 175.44418818 172.10953069 179.34180083 177.4961056  168.10298162\n",
            " 166.48952225 176.7570913  182.43554159 175.83698578 175.76637793\n",
            " 170.19576365 173.83477126 180.50094879 174.31366965 172.06357228\n",
            " 182.58901184 178.95203817 179.25918336 167.66952473 166.48952225\n",
            " 182.19094411 174.31366965 179.03647141 172.15533963 169.04634577\n",
            " 179.31431548 175.40793015 182.61080031 178.16846148 182.76238311\n",
            " 172.56105131 169.714593   177.1153733  167.66952473 178.31689528\n",
            " 167.47959505 177.98825129 181.383158   182.97613892 176.92107729\n",
            " 174.155839   180.39942592 182.65427638 166.76041979 176.98614086\n",
            " 177.33871583 171.4520536  181.54846361 171.83150381 174.35285253\n",
            " 172.516545   182.30265157 176.15041315 183.18669946 181.45424093\n",
            " 180.01206226 167.98049183 177.58970221 182.05571519 172.15533963\n",
            " 179.34180083 180.89987776 170.14310475 178.98023885 169.714593\n",
            " 182.36925329 174.5856882  175.55240565 171.25842529 183.43528657\n",
            " 183.14483839 173.58907484 173.50621438 183.39415884 174.92788084\n",
            " 178.66688192 177.1153733  175.97714851 177.1153733  167.47959505\n",
            " 182.45756855 166.96022792 182.74082804 182.99733718 178.89546686\n",
            " 180.89987776 175.76637793 179.12040158 181.71185179 172.60541745\n",
            " 182.78390525 176.28750656 178.01844688 176.88843246 171.35557214\n",
            " 183.49675389 183.08181262 174.81473776 177.71353806 170.14310475\n",
            " 180.6017452  169.43999878 179.8540841  183.65936738 177.86681746\n",
            " 176.15041315 169.93047826 167.91884517 183.27005022 182.19094411\n",
            " 183.51718353 180.06433036 172.73768357 183.41473772 171.4520536\n",
            " 173.75334769 172.6496443  175.40793015 177.43336056 173.21230308\n",
            " 182.07834369 169.27263557 180.37393046 170.40445247 169.60539682\n",
            " 173.58907484 176.79004158 169.3844317  176.49067697 179.66750869]\n"
          ],
          "name": "stdout"
        }
      ]
    },
    {
      "cell_type": "code",
      "metadata": {
        "id": "Io3a_oIUThRo"
      },
      "source": [
        "a_sort=a[np.argsort(a)]\r\n",
        "suburban_sort=Lpsuburban[np.argsort(a)]"
      ],
      "execution_count": 12,
      "outputs": []
    },
    {
      "cell_type": "code",
      "metadata": {
        "id": "mStG1lBZTpoZ"
      },
      "source": [
        "f=1800 #MHz\r\n",
        "loc='open'\r\n",
        "tower=80 #m\r\n",
        "user=1.5 #m\r\n",
        "dmin=200 #m\r\n",
        "dmax=700 #m\r\n",
        "N=200 #titik\r\n",
        "b=np.random.randint(dmin,dmax,N)"
      ],
      "execution_count": 13,
      "outputs": []
    },
    {
      "cell_type": "code",
      "metadata": {
        "colab": {
          "base_uri": "https://localhost:8080/"
        },
        "id": "5JpmZHnATv8X",
        "outputId": "dab06c89-80f8-444b-e102-f9cf238f45f2"
      },
      "source": [
        "print(b)"
      ],
      "execution_count": 14,
      "outputs": [
        {
          "output_type": "stream",
          "text": [
            "[641 614 487 449 355 648 551 448 366 320 558 641 228 332 564 461 359 237\n",
            " 639 271 326 268 650 281 571 294 579 474 219 386 349 454 628 267 590 370\n",
            " 271 630 483 501 616 361 263 418 623 476 357 545 312 259 445 421 234 630\n",
            " 472 229 518 242 608 340 456 423 477 398 433 260 681 281 319 598 424 690\n",
            " 352 384 585 226 371 484 219 606 494 411 294 620 249 625 622 500 671 598\n",
            " 488 699 678 383 201 318 686 245 634 248 274 311 234 698 463 535 422 676\n",
            " 436 263 204 476 479 653 210 414 515 624 354 539 368 200 618 586 486 636\n",
            " 348 358 485 458 266 474 593 663 474 312 391 535 598 437 637 665 616 521\n",
            " 494 216 277 226 661 396 346 688 578 509 211 361 334 504 257 520 308 652\n",
            " 598 321 626 431 456 258 523 321 544 382 651 535 473 677 357 481 201 422\n",
            " 373 559 449 683 212 330 538 474 680 644 250 604 290 345 368 529 450 542\n",
            " 271 325]\n"
          ],
          "name": "stdout"
        }
      ]
    },
    {
      "cell_type": "code",
      "metadata": {
        "id": "YvU2PA0QUF2J"
      },
      "source": [
        "Lpopen=cos(f,loc,tower,user,b)"
      ],
      "execution_count": 15,
      "outputs": []
    },
    {
      "cell_type": "code",
      "metadata": {
        "colab": {
          "base_uri": "https://localhost:8080/"
        },
        "id": "jy3BaZh4UHZr",
        "outputId": "dde0135a-4d53-45b1-e253-9cebfdfa505e"
      },
      "source": [
        "print(Lpopen)"
      ],
      "execution_count": 16,
      "outputs": [
        {
          "output_type": "stream",
          "text": [
            "[182.87816078 182.27196619 179.00775102 177.86336768 174.55443866\n",
            " 183.03115478 180.74698843 177.83196022 174.98428787 173.09233237\n",
            " 180.92481525 182.87816078 168.31744483 173.61090274 181.07547164\n",
            " 178.23489438 174.71226931 168.86278665 182.83414125 170.75116906\n",
            " 173.35400375 170.59436331 183.07456387 171.26159583 181.24922479\n",
            " 171.8986473  181.44521038 178.62662249 167.75013712 175.73373256\n",
            " 174.31432653 178.01936304 182.58954377 170.54170442 181.71031421\n",
            " 175.13740065 170.75116906 182.63433311 178.89157521 179.40698285\n",
            " 182.31777513 174.79052638 170.32907792 176.85561775 182.47694335\n",
            " 178.68593305 174.63357504 180.59275801 172.73569972 170.11319266\n",
            " 177.7373155  176.95635408 168.68334171 182.63433311 178.56706114\n",
            " 168.37909149 179.8770285  169.15687327 182.13363868 173.9463052\n",
            " 178.08128067 177.02311363 178.71549494 176.16497759 177.3522463\n",
            " 170.16747496 183.73084087 171.26159583 173.04824396 181.90003072\n",
            " 177.05637512 183.91578319 174.43489421 175.66055713 181.59043061\n",
            " 168.19333621 175.17542021 178.92070911 167.75013712 182.087226\n",
            " 179.20878127 176.6177263  171.8986473  182.4089485  169.55854473\n",
            " 182.52209158 182.45431485 179.37883851 183.52246078 181.90003072\n",
            " 179.03664588 184.09832878 183.66864988 175.62382637 166.5420053\n",
            " 173.00401711 183.83388623 169.33042254 182.72348681 169.5018596\n",
            " 170.90624847 172.69047901 168.68334171 184.07816237 178.29587386\n",
            " 180.33189431 176.9897734  183.62703615 177.44950494 170.32907792\n",
            " 166.75069412 178.68593305 178.77443326 183.1394277  167.15901945\n",
            " 176.72017211 179.79521082 182.49953555 174.51470313 180.43682021\n",
            " 175.06105229 166.4717496  182.36343558 181.6144891  178.97879677\n",
            " 182.76785295 174.27390688 174.67297713 178.94978288 178.14292732\n",
            " 170.48884793 178.62662249 181.78175766 183.35350838 178.62662249\n",
            " 172.73569972 175.91502512 180.33189431 181.90003072 177.48177583\n",
            " 182.78998373 183.39593684 182.31777513 179.9583737  179.20878127\n",
            " 167.55584111 171.05963914 168.19333621 183.31095174 176.09401402\n",
            " 174.19271797 183.87489423 181.42086079 179.63013584 167.22593757\n",
            " 174.79052638 173.69550502 179.49108004 170.00399648 179.9313108\n",
            " 172.55393929 183.11783959 181.90003072 173.13628323 182.54461155\n",
            " 177.28703212 178.08128067 170.05870038 180.01234402 173.13628323\n",
            " 180.56688796 175.58699959 183.09621835 180.33189431 178.59687329\n",
            " 183.64785838 174.63357504 178.833126   166.5420053  176.9897734\n",
            " 175.25115285 180.95003681 177.86336768 183.77214952 167.29253929\n",
            " 173.52578927 180.41066192 178.62662249 183.71014103 182.94393321\n",
            " 169.61500267 182.04065988 171.70568212 174.15194735 175.06105229\n",
            " 180.17302528 177.89470526 180.51500489 170.75116906 173.31072803]\n"
          ],
          "name": "stdout"
        }
      ]
    },
    {
      "cell_type": "code",
      "metadata": {
        "id": "W3-EcR7fUO03"
      },
      "source": [
        "b_sort=b[np.argsort(b)]\r\n",
        "open_sort=Lpopen[np.argsort(b)]"
      ],
      "execution_count": 18,
      "outputs": []
    },
    {
      "cell_type": "code",
      "metadata": {
        "colab": {
          "base_uri": "https://localhost:8080/",
          "height": 295
        },
        "id": "z1uq9WRWUSA2",
        "outputId": "cc63fe55-d61c-4ad5-8531-4b73c38f2a7c"
      },
      "source": [
        "plt.figure()\r\n",
        "plt.plot(d_sort,Urban_sort, label='Urban')\r\n",
        "plt.plot(b_sort,open_sort, label='Open')\r\n",
        "plt.plot(a_sort,suburban_sort, label='Suburban')\r\n",
        "plt.legend()\r\n",
        "plt.title('FREKUENSI 1800 MHZ (GAMBAR CONTOH)')\r\n",
        "plt.xlabel('Jarak (m)')\r\n",
        "plt.ylabel('Path Loss (dB)')\r\n",
        "plt.show()"
      ],
      "execution_count": 19,
      "outputs": [
        {
          "output_type": "display_data",
          "data": {
            "image/png": "[encoded data removed]",
            "text/plain": [
              "<Figure size 432x288 with 1 Axes>"
            ]
          },
          "metadata": {
            "tags": [],
            "needs_background": "light"
          }
        }
      ]
    },
    {
      "cell_type": "code",
      "metadata": {
        "id": "QGzzjwGxUntA"
      },
      "source": [
        "f=1800 #MHz\r\n",
        "loc='urban'\r\n",
        "tower=80 #m\r\n",
        "user=1.5 #m\r\n",
        "dmin=200 #m\r\n",
        "dmax=700 #m\r\n",
        "N=200 #titik\r\n",
        "x=np.random.randint(dmin,dmax,N)"
      ],
      "execution_count": 20,
      "outputs": []
    },
    {
      "cell_type": "code",
      "metadata": {
        "colab": {
          "base_uri": "https://localhost:8080/"
        },
        "id": "Zh-USfWAUqqR",
        "outputId": "3d55b473-1ce1-4ed2-f534-40b50a1ca8b6"
      },
      "source": [
        "print(x)"
      ],
      "execution_count": 21,
      "outputs": [
        {
          "output_type": "stream",
          "text": [
            "[549 476 674 236 403 690 302 272 692 335 311 639 410 651 617 393 586 421\n",
            " 695 286 564 547 426 643 386 538 449 543 299 591 331 288 602 437 566 251\n",
            " 478 379 498 336 656 683 212 317 309 451 646 493 464 320 340 646 261 545\n",
            " 217 574 262 436 409 624 366 442 254 231 279 260 370 460 604 366 446 262\n",
            " 527 661 659 295 449 535 562 494 531 352 438 454 605 223 597 283 450 485\n",
            " 297 631 521 416 350 281 431 341 444 373 287 663 321 402 202 664 385 649\n",
            " 355 456 367 207 457 294 284 636 236 513 253 372 310 303 421 600 543 319\n",
            " 586 590 266 412 483 516 215 404 375 383 437 526 562 414 278 248 482 473\n",
            " 298 354 586 615 591 212 628 311 540 662 321 296 476 445 423 312 283 321\n",
            " 504 610 273 592 376 442 414 332 228 448 461 273 440 404 202 204 533 646\n",
            " 555 645 519 215 449 314 682 653 201 330 251 600 457 372 477 273 690 393\n",
            " 495 494]\n"
          ],
          "name": "stdout"
        }
      ]
    },
    {
      "cell_type": "code",
      "metadata": {
        "id": "k0shx9CXUvPA"
      },
      "source": [
        "LpUrban1=cos(f,loc,tower,user,x)"
      ],
      "execution_count": 22,
      "outputs": []
    },
    {
      "cell_type": "code",
      "metadata": {
        "colab": {
          "base_uri": "https://localhost:8080/"
        },
        "id": "or4NBT74UyTV",
        "outputId": "a77ee652-af29-4f02-ac00-2badd0157cf7"
      },
      "source": [
        "print(LpUrban1)"
      ],
      "execution_count": 23,
      "outputs": [
        {
          "output_type": "stream",
          "text": [
            "[183.86470814 181.85487549 186.75424156 171.97216775 179.50978046\n",
            " 187.08472564 175.44576648 173.97199457 187.12549625 176.90655882\n",
            " 175.85942145 186.0030837  179.75235389 186.26516079 185.5095663\n",
            " 179.15583628 184.78343154 180.12529653 187.18643176 174.67897923\n",
            " 184.24441408 183.81329845 180.29160587 186.09098562 178.902675\n",
            " 183.57960436 181.03231012 183.70991276 175.30513732 184.90311142\n",
            " 176.73735273 174.77714157 185.16288176 180.65071828 184.29427692\n",
            " 172.84017768 181.91393737 178.64488045 182.49132302 176.94854466\n",
            " 186.37293666 186.94109196 170.46148173 176.12859342 175.76854219\n",
            " 181.09491573 186.15655395 182.34918016 181.49520734 176.26127482\n",
            " 177.11524764 186.15655395 173.39049132 183.76170046 170.78984712\n",
            " 184.49198175 173.44435845 180.61844739 179.71795525 185.668478\n",
            " 178.15323031 180.81097299 173.00754089 171.67052372 174.32992186\n",
            " 173.3364174  178.30634309 181.37324781 185.20960232 178.15323031\n",
            " 180.93787689 173.44435845 183.2886107  186.47989418 186.43720858\n",
            " 175.11542082 181.03231012 183.50083675 184.19437411 182.37772371\n",
            " 183.3951234  177.60383665 180.68291541 181.18830549 185.23290462\n",
            " 171.17404105 185.04539786 174.53044108 181.06364771 182.11872533\n",
            " 175.21059846 185.82561694 183.12731614 179.95700017 177.52357297\n",
            " 174.43053827 180.45597456 177.15661694 180.87456785 178.42009529\n",
            " 174.72814591 186.52245082 176.30522567 179.47478358 169.78085477\n",
            " 186.54368103 178.8661348  186.22181849 177.72338111 181.25022312\n",
            " 178.19166482 170.12527872 181.28108017 175.06758974 174.58012804\n",
            " 185.9367954  171.97216775 182.90934294 172.9519738  178.38227987\n",
            " 175.81405511 175.4923326  180.12529653 185.11600572 183.70991276\n",
            " 176.2171864  184.78343154 184.87925665 173.65779037 179.8209002\n",
            " 182.06051765 182.99147866 170.65941807 179.54469061 178.49542295\n",
            " 178.79276882 180.65071828 183.26185621 184.19437411 179.88911456\n",
            " 174.27934286 172.67080204 182.03132336 181.76581574 175.2579472\n",
            " 177.68364557 184.78343154 185.46383172 184.90311142 170.46148173\n",
            " 185.75848621 175.85942145 183.63187246 186.50118857 176.30522567\n",
            " 175.16309002 181.85487549 180.90625794 180.19205607 175.90464216\n",
            " 174.53044108 176.30522567 182.66002249 185.34884139 174.02368724\n",
            " 184.92692586 178.53293625 180.81097299 179.88911456 176.77984519\n",
            " 171.48638728 181.00090267 181.40383683 174.02368724 180.74708972\n",
            " 179.54469061 169.78085477 169.91963656 183.44807925 186.15655395\n",
            " 184.01782092 186.13473173 183.07313824 170.65941807 181.03231012\n",
            " 175.99465037 186.92045278 186.30837014 169.71094774 176.69473171\n",
            " 172.84017768 185.11600572 181.28108017 178.38227987 181.88443739\n",
            " 174.02368724 187.08472564 179.15583628 182.40620954 182.37772371]\n"
          ],
          "name": "stdout"
        }
      ]
    },
    {
      "cell_type": "code",
      "metadata": {
        "id": "mlhHceJYU4BW"
      },
      "source": [
        "x_sort=x[np.argsort(x)]\r\n",
        "Urban_sort1=LpUrban1[np.argsort(x)]"
      ],
      "execution_count": 24,
      "outputs": []
    },
    {
      "cell_type": "code",
      "metadata": {
        "id": "QycYk5GkU9BY"
      },
      "source": [
        "f=900 #MHz\r\n",
        "loc='urban'\r\n",
        "tower=80 #m\r\n",
        "user=1.5 #m\r\n",
        "dmin=200 #m\r\n",
        "dmax=700 #m\r\n",
        "N=200 #titik\r\n",
        "y=np.random.randint(dmin,dmax,N)"
      ],
      "execution_count": 25,
      "outputs": []
    },
    {
      "cell_type": "code",
      "metadata": {
        "colab": {
          "base_uri": "https://localhost:8080/"
        },
        "id": "8ZkWyQFNVAsY",
        "outputId": "6b00da76-526a-4704-d158-87239180f060"
      },
      "source": [
        "print(y)"
      ],
      "execution_count": 26,
      "outputs": [
        {
          "output_type": "stream",
          "text": [
            "[407 689 378 696 346 298 254 276 647 533 578 630 404 474 388 668 488 659\n",
            " 671 210 269 662 338 403 296 473 603 400 627 221 474 678 608 293 450 572\n",
            " 239 473 215 461 375 313 351 555 390 558 541 381 678 274 620 276 534 583\n",
            " 308 610 685 473 366 557 540 670 512 210 202 342 381 235 315 423 281 687\n",
            " 329 247 554 310 594 430 643 571 635 529 377 202 475 469 561 432 218 369\n",
            " 503 574 445 428 265 481 327 592 420 374 547 325 215 564 623 513 680 359\n",
            " 416 592 585 589 396 310 683 233 585 560 468 327 578 450 570 427 358 324\n",
            " 549 581 393 451 433 456 394 433 633 297 388 565 438 609 686 230 259 641\n",
            " 367 548 372 201 203 327 395 351 241 405 584 222 493 500 230 471 576 648\n",
            " 347 313 430 676 493 648 283 460 300 439 488 204 401 499 508 510 306 577\n",
            " 357 260 455 513 678 531 540 620 499 561 605 344 550 365 642 360 320 644\n",
            " 248 381]\n"
          ],
          "name": "stdout"
        }
      ]
    },
    {
      "cell_type": "code",
      "metadata": {
        "id": "T4nLacxhVHxB"
      },
      "source": [
        "LpUrban2=cos(f,loc,tower,user,y)"
      ],
      "execution_count": 27,
      "outputs": []
    },
    {
      "cell_type": "code",
      "metadata": {
        "colab": {
          "base_uri": "https://localhost:8080/"
        },
        "id": "EC11NGuDVNTG",
        "outputId": "2fbfcafe-f17c-43f0-ede3-7fb0eb28b2b8"
      },
      "source": [
        "print(LpUrban2)"
      ],
      "execution_count": 28,
      "outputs": [
        {
          "output_type": "stream",
          "text": [
            "[169.85524375 177.27063481 168.8140033  177.41302399 167.56799924\n",
            " 165.46428602 163.21387971 164.38397555 176.38468123 173.65441807\n",
            " 174.79614206 176.00961438 169.75102943 172.00190375 169.18181108\n",
            " 176.83462213 172.41192714 176.6435474  176.89774205 160.53430071\n",
            " 164.02210735 176.7075274  167.23848158 169.71611929 165.36942885\n",
            " 171.97215456 175.39260023 169.61086671 175.94237684 161.25347598\n",
            " 172.00190375 177.04393115 175.50891995 165.22593453 171.26998653\n",
            " 174.6491539  162.35644036 171.97215456 160.86575689 171.61017565\n",
            " 168.70176177 166.15605698 167.7701008  174.22415975 169.25423405\n",
            " 174.30009652 173.86427279 168.92535754 177.04393115 164.28152974\n",
            " 175.78422977 164.38397555 173.68082152 174.9174713  165.92922056\n",
            " 175.55518021 177.18861864 171.97215456 168.35956913 174.27482972\n",
            " 173.83821129 176.87673349 173.08819641 160.53430071 159.9871936\n",
            " 167.40420393 168.92535754 162.11869231 166.24577854 170.39839489\n",
            " 164.63687709 177.22968642 166.85832016 162.8202267  174.19875625\n",
            " 166.02039393 175.18077312 170.62959273 176.29732444 174.62450606\n",
            " 176.12096862 173.54830655 168.77668874 159.9871936  172.03159025\n",
            " 171.8525255  174.37562613 170.69495822 161.06095037 168.47455947\n",
            " 172.83838466 174.69832057 171.11259676 170.5639225  163.81107362\n",
            " 172.20840727 166.7724282  175.13326469 170.29813655 168.6641483\n",
            " 174.01963728 166.68600929 160.86575689 174.4507529  175.85222462\n",
            " 173.11568176 177.0854223  168.08755058 170.16333899 175.13326469\n",
            " 174.96571188 175.06170024 169.46929529 166.02039393 177.14743079\n",
            " 161.99829638 174.96571188 174.35049456 171.82245881 166.7724282\n",
            " 174.79614206 171.26998653 174.59981501 170.53097223 168.0482584\n",
            " 166.64260021 174.07104696 174.86906493 169.3621751  171.30125455\n",
            " 170.72752757 171.45656194 169.39797242 170.72752757 176.0765325\n",
            " 165.41693728 169.18181108 174.47570639 170.88925423 175.53206907\n",
            " 177.2091675  161.81575079 163.48847393 176.25344205 168.39800364\n",
            " 174.04536557 168.58861869 159.91728657 160.0567554  166.7724282\n",
            " 169.433679   167.7701008  162.47382635 169.78585328 174.94161224\n",
            " 161.31707084 172.55551898 172.75411978 161.81575079 171.91246703\n",
            " 174.74731623 176.40643605 167.60865219 166.15605698 170.62959273\n",
            " 177.00231742 172.55551898 176.40643605 164.73677991 171.57958663\n",
            " 165.5585087  170.92137793 172.41192714 160.12597538 169.64603836\n",
            " 172.7259191  172.97771555 173.03306429 165.83745321 174.7717503\n",
            " 168.00885631 163.54275622 171.42563715 173.11568176 177.04393115\n",
            " 173.60146223 173.83821129 175.78422977 172.7259191  174.37562613\n",
            " 175.43924345 167.48633966 174.09668161 168.32102947 176.27540033\n",
            " 168.12673346 166.46761364 176.31921448 162.87714086 168.92535754]\n"
          ],
          "name": "stdout"
        }
      ]
    },
    {
      "cell_type": "code",
      "metadata": {
        "id": "U8DIOVaNVVgT"
      },
      "source": [
        "y_sort=y[np.argsort(y)]\r\n",
        "Urban_sort2=LpUrban2[np.argsort(y)]"
      ],
      "execution_count": 29,
      "outputs": []
    },
    {
      "cell_type": "code",
      "metadata": {
        "id": "CKbkYUuLVZ8-"
      },
      "source": [
        "f=700 #MHz\r\n",
        "loc='urban'\r\n",
        "tower=80 #m\r\n",
        "user=1.5 #m\r\n",
        "dmin=200 #m\r\n",
        "dmax=700 #m\r\n",
        "N=200 #titik\r\n",
        "z=np.random.randint(dmin,dmax,N)"
      ],
      "execution_count": 30,
      "outputs": []
    },
    {
      "cell_type": "code",
      "metadata": {
        "colab": {
          "base_uri": "https://localhost:8080/"
        },
        "id": "jxkQJRNpVeC8",
        "outputId": "6e2a13af-d894-44d9-ea96-b6aa7074cf31"
      },
      "source": [
        "print(z)"
      ],
      "execution_count": 31,
      "outputs": [
        {
          "output_type": "stream",
          "text": [
            "[668 690 589 684 642 295 485 566 389 649 532 252 319 622 392 268 521 206\n",
            " 351 407 272 464 617 344 431 631 319 670 509 359 401 482 552 495 283 504\n",
            " 438 302 569 358 607 350 531 454 494 656 698 606 261 520 275 211 245 335\n",
            " 652 482 685 407 654 697 586 397 378 501 521 325 670 639 529 574 554 604\n",
            " 486 695 214 436 369 337 376 694 256 524 400 440 691 546 326 402 204 684\n",
            " 414 568 582 575 531 230 645 448 385 443 693 245 528 407 498 217 655 265\n",
            " 406 407 666 367 246 370 217 428 655 691 674 284 214 470 415 597 235 556\n",
            " 215 479 682 420 535 651 699 661 217 450 215 478 525 444 437 607 248 568\n",
            " 660 228 387 472 290 336 617 652 319 638 599 564 315 520 683 508 274 479\n",
            " 282 478 554 236 458 423 234 271 260 251 237 398 288 258 422 354 324 311\n",
            " 611 231 497 243 434 212 608 682 324 572 639 218 248 611 344 462 652 680\n",
            " 582 540]\n"
          ],
          "name": "stdout"
        }
      ]
    },
    {
      "cell_type": "code",
      "metadata": {
        "id": "z46QxGp4VkPU"
      },
      "source": [
        "LpUrban3=cos(f,loc,tower,user,z)"
      ],
      "execution_count": 32,
      "outputs": []
    },
    {
      "cell_type": "code",
      "metadata": {
        "colab": {
          "base_uri": "https://localhost:8080/"
        },
        "id": "AAVFTLYuVogh",
        "outputId": "9f3527ba-3f05-4275-ddaa-3d307e7c0270"
      },
      "source": [
        "print(LpUrban3)"
      ],
      "execution_count": 33,
      "outputs": [
        {
          "output_type": "stream",
          "text": [
            "[173.98922581 174.44566814 172.21630393 174.32264345 173.43000402\n",
            " 162.47636332 169.47966783 171.65521943 166.37267279 173.58276099\n",
            " 170.78256872 160.25712916 163.57812891 172.9841998  166.48089026\n",
            " 161.12424826 170.48825865 157.41800686 164.92470448 167.00984743\n",
            " 161.33293708 168.85614984 172.87050881 164.64094334 167.81691707\n",
            " 173.18655944 163.57812891 174.03133717 170.16002079 165.24215426\n",
            " 166.80064204 169.39226587 171.30241507 169.76715204 161.89138359\n",
            " 170.02096499 168.04385791 162.80670899 171.72968429 165.20286208\n",
            " 172.6403364  164.88451548 170.75606591 168.54924799 169.73866622\n",
            " 173.73387917 174.60804732 172.61711095 160.75143382 170.46119575\n",
            " 161.48744946 157.75582252 159.86030749 164.26750133 173.64772454\n",
            " 169.39226587 174.34322233 167.00984743 173.69086772 174.58785199\n",
            " 172.14437405 166.65942544 165.96860698 169.9368678  170.48825865\n",
            " 163.84061298 174.03133717 173.3640262  170.70291023 171.85292425\n",
            " 171.35335993 172.57054483 169.50868172 174.54737427 157.95469035\n",
            " 167.97938989 165.62916315 164.35134823 165.89387876 174.52709171\n",
            " 160.47896425 170.56913679 166.76547039 168.10803223 174.4660682\n",
            " 171.14846559 163.8838887  166.83572609 157.28057907 174.32264345\n",
            " 167.25005706 171.70490638 172.04789259 171.87744338 170.75606591\n",
            " 158.97035447 173.49567424 168.36184517 166.22707731 168.20374882\n",
            " 174.5067799  159.86030749 170.67625698 167.00984743 169.85226552\n",
            " 158.15078963 173.71238986 160.96567731 166.97519492 167.00984743\n",
            " 173.94698819 165.55260732 159.91768532 165.6672856  158.15078963\n",
            " 167.71852619 173.71238986 174.4660682  174.11518407 161.94107054\n",
            " 157.95469035 169.03713183 167.28404076 172.40634037 159.27329599\n",
            " 171.4041212  158.02036057 169.30431821 174.28139529 167.45274023\n",
            " 170.86177926 173.6261033  174.62821373 173.84083669 158.15078963\n",
            " 168.42459021 158.02036057 169.27487988 170.59599331 168.23551036\n",
            " 168.01166078 172.6403364  160.03174455 171.70490638 173.81951005\n",
            " 158.84732978 166.30006316 169.09694609 162.23556707 164.30948716\n",
            " 172.87050881 173.64772454 163.57812891 173.34196474 172.45345157\n",
            " 171.60535659 163.40038223 170.46119575 174.30203447 170.13231923\n",
            " 161.43613342 169.30431821 161.84152075 169.27487988 171.35335993\n",
            " 159.33311025 168.67281227 167.55299858 159.21322666 161.28105401\n",
            " 160.69735991 160.20112018 159.3926716  166.69486254 162.13808407\n",
            " 160.58858533 167.51965835 165.04458808 163.79720389 163.22036396\n",
            " 172.73285718 159.03146623 169.82395147 159.74484588 167.91462547\n",
            " 157.82242424 172.66352363 174.28139529 163.79720389 171.80375758\n",
            " 173.3640262  158.21555405 160.03174455 172.73285718 164.64094334\n",
            " 168.79530207 173.64772454 174.24002598 172.04789259 170.99281497]\n"
          ],
          "name": "stdout"
        }
      ]
    },
    {
      "cell_type": "code",
      "metadata": {
        "id": "EZ8bDDBbVwEK"
      },
      "source": [
        "z_sort=z[np.argsort(z)]\r\n",
        "Urban_sort3=LpUrban3[np.argsort(z)]"
      ],
      "execution_count": 34,
      "outputs": []
    },
    {
      "cell_type": "code",
      "metadata": {
        "colab": {
          "base_uri": "https://localhost:8080/",
          "height": 295
        },
        "id": "JcUYgA7-V0AX",
        "outputId": "d92ad6a9-e820-488f-9578-b47dcddec82f"
      },
      "source": [
        "plt.figure()\r\n",
        "plt.plot(x_sort,Urban_sort1, label='700 Mhz')\r\n",
        "plt.plot(y_sort,Urban_sort2, label='900 Mhz')\r\n",
        "plt.plot(z_sort,Urban_sort3, label='1800 Mhz')\r\n",
        "plt.legend()\r\n",
        "plt.title('Model Urban (Contoh Gambar)')\r\n",
        "plt.xlabel('Jarak (m)')\r\n",
        "plt.ylabel('Path Loss (dB)')\r\n",
        "plt.show()"
      ],
      "execution_count": 35,
      "outputs": [
        {
          "output_type": "display_data",
          "data": {
            "image/png": "[encoded data removed]",
            "text/plain": [
              "<Figure size 432x288 with 1 Axes>"
            ]
          },
          "metadata": {
            "tags": [],
            "needs_background": "light"
          }
        }
      ]
    }
  ]
}